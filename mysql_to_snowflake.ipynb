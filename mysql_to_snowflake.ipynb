{
 "cells": [
  {
   "cell_type": "code",
   "execution_count": 2,
   "id": "afe678e9",
   "metadata": {
    "scrolled": true
   },
   "outputs": [
    {
     "name": "stdout",
     "output_type": "stream",
     "text": [
      "Collecting snowflake-connector-python\n",
      "  Downloading snowflake_connector_python-3.0.3-cp38-cp38-win_amd64.whl (10.7 MB)\n",
      "Requirement already satisfied: idna<4,>=2.5 in c:\\users\\lohit\\anaconda3\\lib\\site-packages (from snowflake-connector-python) (2.10)\n",
      "Requirement already satisfied: pyOpenSSL<24.0.0,>=16.2.0 in c:\\users\\lohit\\anaconda3\\lib\\site-packages (from snowflake-connector-python) (20.0.1)\n",
      "Requirement already satisfied: cffi<2.0.0,>=1.9 in c:\\users\\lohit\\anaconda3\\lib\\site-packages (from snowflake-connector-python) (1.14.5)\n",
      "Requirement already satisfied: pytz in c:\\users\\lohit\\anaconda3\\lib\\site-packages (from snowflake-connector-python) (2021.1)\n",
      "Collecting typing-extensions<5,>=4.3\n",
      "  Downloading typing_extensions-4.5.0-py3-none-any.whl (27 kB)\n",
      "Requirement already satisfied: asn1crypto<2.0.0,>0.24.0 in c:\\users\\lohit\\anaconda3\\lib\\site-packages (from snowflake-connector-python) (1.4.0)\n",
      "Collecting pyjwt<3.0.0\n",
      "  Downloading PyJWT-2.7.0-py3-none-any.whl (22 kB)\n",
      "Requirement already satisfied: packaging in c:\\users\\lohit\\anaconda3\\lib\\site-packages (from snowflake-connector-python) (20.9)\n",
      "Requirement already satisfied: urllib3<1.27,>=1.21.1 in c:\\users\\lohit\\anaconda3\\lib\\site-packages (from snowflake-connector-python) (1.26.4)\n",
      "Collecting charset-normalizer<3,>=2\n",
      "  Downloading charset_normalizer-2.1.1-py3-none-any.whl (39 kB)\n",
      "Collecting oscrypto<2.0.0\n",
      "  Downloading oscrypto-1.3.0-py2.py3-none-any.whl (194 kB)\n",
      "Requirement already satisfied: requests<3.0.0 in c:\\users\\lohit\\anaconda3\\lib\\site-packages (from snowflake-connector-python) (2.25.1)\n",
      "Requirement already satisfied: cryptography<41.0.0,>=3.1.0 in c:\\users\\lohit\\anaconda3\\lib\\site-packages (from snowflake-connector-python) (3.4.7)\n",
      "Collecting pycryptodomex!=3.5.0,<4.0.0,>=3.2Note: you may need to restart the kernel to use updated packages.\n",
      "\n",
      "  Downloading pycryptodomex-3.17-cp35-abi3-win_amd64.whl (1.7 MB)\n",
      "Requirement already satisfied: certifi>=2017.4.17 in c:\\users\\lohit\\anaconda3\\lib\\site-packages (from snowflake-connector-python) (2020.12.5)\n",
      "Collecting filelock<4,>=3.5\n",
      "  Downloading filelock-3.12.0-py3-none-any.whl (10 kB)\n",
      "Requirement already satisfied: pycparser in c:\\users\\lohit\\anaconda3\\lib\\site-packages (from cffi<2.0.0,>=1.9->snowflake-connector-python) (2.20)\n",
      "Collecting asn1crypto<2.0.0,>0.24.0\n",
      "  Downloading asn1crypto-1.5.1-py2.py3-none-any.whl (105 kB)\n",
      "Requirement already satisfied: six>=1.5.2 in c:\\users\\lohit\\anaconda3\\lib\\site-packages (from pyOpenSSL<24.0.0,>=16.2.0->snowflake-connector-python) (1.15.0)\n",
      "Requirement already satisfied: chardet<5,>=3.0.2 in c:\\users\\lohit\\anaconda3\\lib\\site-packages (from requests<3.0.0->snowflake-connector-python) (4.0.0)\n",
      "Requirement already satisfied: pyparsing>=2.0.2 in c:\\users\\lohit\\anaconda3\\lib\\site-packages (from packaging->snowflake-connector-python) (2.4.7)\n",
      "Installing collected packages: asn1crypto, typing-extensions, pyjwt, pycryptodomex, oscrypto, filelock, charset-normalizer, snowflake-connector-python\n",
      "  Attempting uninstall: asn1crypto\n",
      "    Found existing installation: asn1crypto 1.4.0\n",
      "    Uninstalling asn1crypto-1.4.0:\n",
      "      Successfully uninstalled asn1crypto-1.4.0\n",
      "  Attempting uninstall: typing-extensions\n",
      "    Found existing installation: typing-extensions 3.7.4.3\n",
      "    Uninstalling typing-extensions-3.7.4.3:\n",
      "      Successfully uninstalled typing-extensions-3.7.4.3\n",
      "  Attempting uninstall: filelock\n",
      "    Found existing installation: filelock 3.0.12\n",
      "    Uninstalling filelock-3.0.12:\n",
      "      Successfully uninstalled filelock-3.0.12\n",
      "Successfully installed asn1crypto-1.5.1 charset-normalizer-2.1.1 filelock-3.12.0 oscrypto-1.3.0 pycryptodomex-3.17 pyjwt-2.7.0 snowflake-connector-python-3.0.3 typing-extensions-4.5.0\n"
     ]
    }
   ],
   "source": [
    "pip install snowflake-connector-python\n"
   ]
  },
  {
   "cell_type": "code",
   "execution_count": 17,
   "id": "48eba4bf",
   "metadata": {},
   "outputs": [
    {
     "name": "stdout",
     "output_type": "stream",
     "text": [
      "Collecting mysql-connector-python\n",
      "  Downloading mysql_connector_python-8.0.33-cp38-cp38-win_amd64.whl (9.6 MB)\n",
      "Collecting protobuf<=3.20.3,>=3.11.0\n",
      "  Downloading protobuf-3.20.3-cp38-cp38-win_amd64.whl (904 kB)\n",
      "Installing collected packages: protobuf, mysql-connector-python\n",
      "Successfully installed mysql-connector-python-8.0.33 protobuf-3.20.3\n",
      "Note: you may need to restart the kernel to use updated packages.\n"
     ]
    }
   ],
   "source": [
    "pip install mysql-connector-python"
   ]
  },
  {
   "cell_type": "code",
   "execution_count": 19,
   "id": "2a1fb659",
   "metadata": {},
   "outputs": [],
   "source": [
    "import snowflake.connector\n",
    "import mysql.connector\n",
    "from snowflake.connector.pandas_tools import write_pandas\n",
    "import pandas\n",
    "import pyodbc"
   ]
  },
  {
   "cell_type": "markdown",
   "id": "a1e40f69",
   "metadata": {},
   "source": [
    "Now open sql server connection using odbc connector\n",
    "\n"
   ]
  },
  {
   "cell_type": "code",
   "execution_count": 23,
   "id": "a2634d6b",
   "metadata": {},
   "outputs": [],
   "source": [
    "# conn_sql = (r\"Driver={MySQL ODBC 3.51 Driver};Server=Mysql@127.0.0.1:3306;\"\n",
    "#            \"Database=city_database;UID=root;PWD=admin;OPTION=3 \"\n",
    "#            )\n",
    "\n",
    "# connection = pyodbc.connect(conn_sql)\n",
    "# print(\"opened...\")"
   ]
  },
  {
   "cell_type": "code",
   "execution_count": 20,
   "id": "f041d50d",
   "metadata": {},
   "outputs": [],
   "source": [
    "myconn = mysql.connector.connect(host = \"localhost\",\n",
    "                                 user = \"root\",\n",
    "                                 password = \"admin\",\n",
    "                                 database = \"city_database\"\n",
    "                        \n",
    "                                )"
   ]
  },
  {
   "cell_type": "code",
   "execution_count": 6,
   "id": "8fde8637",
   "metadata": {},
   "outputs": [
    {
     "name": "stdout",
     "output_type": "stream",
     "text": [
      "<mysql.connector.connection_cext.CMySQLConnection object at 0x000002A5C71D8070>\n"
     ]
    }
   ],
   "source": [
    "# print(myconn)\n",
    "\n",
    "# mycursor = myconn.cursor()\n",
    "\n",
    "# mycursor.execute(\"select * from country\")"
   ]
  },
  {
   "cell_type": "code",
   "execution_count": 21,
   "id": "08d2521d",
   "metadata": {},
   "outputs": [],
   "source": [
    "df = pandas.read_sql(\"select * from country;\",myconn)\n",
    "#close the connection after getting the dataframe \n",
    "myconn.close()"
   ]
  },
  {
   "cell_type": "code",
   "execution_count": 22,
   "id": "5cd1c30c",
   "metadata": {},
   "outputs": [
    {
     "name": "stdout",
     "output_type": "stream",
     "text": [
      "   id              country_name          country_name_eng country_code\n",
      "0   1               Deutschland                   Germany          DEU\n",
      "1   2                    Srbija                    Serbia          SRB\n",
      "2   3                  Hrvatska                   Croatia          HRV\n",
      "3   4  United Stated of America  United Stated of America          USA\n",
      "4   5                    Polska                    Poland          POL\n"
     ]
    }
   ],
   "source": [
    "print(df.head(10))"
   ]
  },
  {
   "cell_type": "code",
   "execution_count": null,
   "id": "93e594e4",
   "metadata": {},
   "outputs": [],
   "source": [
    "snow_conn = snowflake.connector.connect(\n",
    "    user = \"<username>\",\n",
    "    password = \"<password>\",\n",
    "    account = \"<account name>\",\n",
    "    warehouse=\"<sf warehouse name>\",\n",
    "    database = \"<database name>\",\n",
    "    schema=\"<schema in database>\"\n",
    "    \n",
    ")\n",
    "\n"
   ]
  },
  {
   "cell_type": "markdown",
   "id": "14807fdc",
   "metadata": {},
   "source": [
    "Snowflake connection is created. Now need to create the snowflake table DDL if not exists scenario"
   ]
  },
  {
   "cell_type": "code",
   "execution_count": null,
   "id": "caa0ec52",
   "metadata": {},
   "outputs": [],
   "source": [
    "ddl_sql= (\n",
    "    \"CREATE OR REPLACE Table country\"\n",
    "    \"(id integer,country_name string, country_name_eng string, country_code string)\"\n",
    ")"
   ]
  },
  {
   "cell_type": "code",
   "execution_count": 26,
   "id": "252e46f1",
   "metadata": {},
   "outputs": [
    {
     "name": "stdout",
     "output_type": "stream",
     "text": [
      "(1, 'Deutschland', 'Germany', 'DEU')\n",
      "(2, 'Srbija', 'Serbia', 'SRB')\n",
      "(3, 'Hrvatska', 'Croatia', 'HRV')\n",
      "(4, 'United Stated of America', 'United Stated of America', 'USA')\n",
      "(5, 'Polska', 'Poland', 'POL')\n",
      "closed..\n"
     ]
    }
   ],
   "source": [
    "cursor = snow_conn.cursor()\n",
    "cursor.execute(ddl_sql)\n",
    "#connected and created table in snowflake\n",
    "\n"
   ]
  },
  {
   "cell_type": "code",
   "execution_count": null,
   "id": "22784ffd",
   "metadata": {},
   "outputs": [],
   "source": [
    "success,numchunks, nrows, _ = write-pandas(snow_conn,df,\"country\",)\n",
    "success, num_chunks, num_rows, output = write_pandas(\n",
    "            conn=snow_conn,\n",
    "            df=df,\n",
    "            table_name=\"country\",\n",
    "            database=\"<database>\",\n",
    "            schema=\"<schema>\"\n",
    "        )\n",
    "\n",
    "print('snowflake connection closed')\n",
    "print('now try to fetch some data from snowflake to see data saved in snowflake')\n",
    "\n",
    "sql_fetch = \"select * from country where id >2\"\n",
    "\n",
    "outdf = pandas.read_sql(sql_fetch,snow_conn)\n",
    "\n",
    "print(outdf)\n",
    "\n",
    "snow_conn.close()\n"
   ]
  }
 ],
 "metadata": {
  "kernelspec": {
   "display_name": "Python 3",
   "language": "python",
   "name": "python3"
  },
  "language_info": {
   "codemirror_mode": {
    "name": "ipython",
    "version": 3
   },
   "file_extension": ".py",
   "mimetype": "text/x-python",
   "name": "python",
   "nbconvert_exporter": "python",
   "pygments_lexer": "ipython3",
   "version": "3.8.8"
  }
 },
 "nbformat": 4,
 "nbformat_minor": 5
}
